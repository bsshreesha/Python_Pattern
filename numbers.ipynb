{
 "cells": [
  {
   "cell_type": "code",
   "execution_count": 1,
   "metadata": {},
   "outputs": [
    {
     "name": "stdout",
     "output_type": "stream",
     "text": [
      "  * * *   \n",
      "*       * \n",
      "*       * \n",
      "*       * \n",
      "  * * *   \n"
     ]
    }
   ],
   "source": [
    "# Print the number 0\n",
    "for i in range(5):\n",
    "    for j in range(5):\n",
    "        if (i == 0 or i == 4) and (j > 0 and j < 4):\n",
    "            print(\"*\", end=\" \")\n",
    "        elif (j == 0 or j == 4) and (i > 0 and i < 4):\n",
    "            print(\"*\", end=\" \")\n",
    "        else:\n",
    "            print(\" \", end=\" \")\n",
    "    print()"
   ]
  },
  {
   "cell_type": "code",
   "execution_count": 3,
   "metadata": {},
   "outputs": [
    {
     "name": "stdout",
     "output_type": "stream",
     "text": [
      "    *     \n",
      "    *     \n",
      "    *     \n",
      "    *     \n",
      "    *     \n"
     ]
    }
   ],
   "source": [
    "# Print the number 1\n",
    "for i in range(5):\n",
    "    for j in range(5):\n",
    "        if j == 2:  # Draw the middle vertical line\n",
    "            print(\"*\", end=\" \")\n",
    "        else:\n",
    "            print(\" \", end=\" \")\n",
    "    print()\n"
   ]
  },
  {
   "cell_type": "code",
   "execution_count": 4,
   "metadata": {},
   "outputs": [
    {
     "name": "stdout",
     "output_type": "stream",
     "text": [
      "* * * * * \n",
      "        * \n",
      "* * * * * \n",
      "*         \n",
      "* * * * * \n"
     ]
    }
   ],
   "source": [
    "# Print the number 2\n",
    "for i in range(5):\n",
    "    for j in range(5):\n",
    "        if (i == 0 or i == 2 or i == 4):  # Top, middle, and bottom horizontal lines\n",
    "            print(\"*\", end=\" \")\n",
    "        elif i == 1 and j == 4:  # Top right vertical line\n",
    "            print(\"*\", end=\" \")\n",
    "        elif i == 3 and j == 0:  # Bottom left vertical line\n",
    "            print(\"*\", end=\" \")\n",
    "        else:\n",
    "            print(\" \", end=\" \")\n",
    "    print()\n"
   ]
  },
  {
   "cell_type": "code",
   "execution_count": 5,
   "metadata": {},
   "outputs": [
    {
     "name": "stdout",
     "output_type": "stream",
     "text": [
      "* * * * * \n",
      "        * \n",
      "* * * * * \n",
      "        * \n",
      "* * * * * \n"
     ]
    }
   ],
   "source": [
    "# Print the number 3\n",
    "for i in range(5):\n",
    "    for j in range(5):\n",
    "        if (i == 0 or i == 2 or i == 4):  # Top, middle, and bottom horizontal lines\n",
    "            print(\"*\", end=\" \")\n",
    "        elif (j == 4):  # Right vertical line\n",
    "            print(\"*\", end=\" \")\n",
    "        else:\n",
    "            print(\" \", end=\" \")\n",
    "    print()\n"
   ]
  },
  {
   "cell_type": "code",
   "execution_count": 6,
   "metadata": {},
   "outputs": [
    {
     "name": "stdout",
     "output_type": "stream",
     "text": [
      "*   *     \n",
      "*   *     \n",
      "* * * * * \n",
      "    *     \n",
      "    *     \n"
     ]
    }
   ],
   "source": [
    "# Print the number 4\n",
    "for i in range(5):\n",
    "    for j in range(5):\n",
    "        if (i == 2):  # Middle horizontal line\n",
    "            print(\"*\", end=\" \")\n",
    "        elif j == 2 or (i < 2 and j == 0):  # Middle vertical line and top left vertical line\n",
    "            print(\"*\", end=\" \")\n",
    "        else:\n",
    "            print(\" \", end=\" \")\n",
    "    print()\n"
   ]
  },
  {
   "cell_type": "code",
   "execution_count": 7,
   "metadata": {},
   "outputs": [
    {
     "name": "stdout",
     "output_type": "stream",
     "text": [
      "* * * * * \n",
      "*         \n",
      "* * * * * \n",
      "        * \n",
      "* * * * * \n"
     ]
    }
   ],
   "source": [
    "# Print the number 5\n",
    "for i in range(5):\n",
    "    for j in range(5):\n",
    "        if (i == 0 or i == 2 or i == 4):  # Top, middle, and bottom horizontal lines\n",
    "            print(\"*\", end=\" \")\n",
    "        elif (i == 1 and j == 0) or (i == 3 and j == 4):  # Top left and bottom right vertical lines\n",
    "            print(\"*\", end=\" \")\n",
    "        else:\n",
    "            print(\" \", end=\" \")\n",
    "    print()\n"
   ]
  },
  {
   "cell_type": "code",
   "execution_count": 13,
   "metadata": {},
   "outputs": [
    {
     "name": "stdout",
     "output_type": "stream",
     "text": [
      "* * * * * \n",
      "*         \n",
      "* * * * * \n",
      "*       * \n",
      "* * * * * \n"
     ]
    }
   ],
   "source": [
    "# Print the number 6\n",
    "for i in range(5):\n",
    "    for j in range(5):\n",
    "        if (i == 0 or i == 2 or i == 4):  # Top, middle, and bottom horizontal lines\n",
    "            print(\"*\", end=\" \")\n",
    "        elif (j == 0) or (i > 2 and j == 4):  # Left vertical line and bottom right vertical line\n",
    "            print(\"*\", end=\" \")\n",
    "        else:\n",
    "            print(\" \", end=\" \")\n",
    "    print()"
   ]
  },
  {
   "cell_type": "code",
   "execution_count": 10,
   "metadata": {},
   "outputs": [
    {
     "name": "stdout",
     "output_type": "stream",
     "text": [
      "* * * * * \n",
      "        * \n",
      "        * \n",
      "        * \n",
      "        * \n"
     ]
    }
   ],
   "source": [
    "# Print the number 7\n",
    "for i in range(5):\n",
    "    for j in range(5):\n",
    "        if i == 0:  # Top horizontal line\n",
    "            print(\"*\", end=\" \")\n",
    "        elif j == 4:  # Right vertical line\n",
    "            print(\"*\", end=\" \")\n",
    "        else:\n",
    "            print(\" \", end=\" \")\n",
    "    print()\n"
   ]
  },
  {
   "cell_type": "code",
   "execution_count": 11,
   "metadata": {},
   "outputs": [
    {
     "name": "stdout",
     "output_type": "stream",
     "text": [
      "* * * * * \n",
      "*       * \n",
      "* * * * * \n",
      "*       * \n",
      "* * * * * \n"
     ]
    }
   ],
   "source": [
    "# Print the number 8\n",
    "for i in range(5):\n",
    "    for j in range(5):\n",
    "        if (i == 0 or i == 2 or i == 4):  # Top, middle, and bottom horizontal lines\n",
    "            print(\"*\", end=\" \")\n",
    "        elif (j == 0 or j == 4):  # Left and right vertical lines\n",
    "            print(\"*\", end=\" \")\n",
    "        else:\n",
    "            print(\" \", end=\" \")\n",
    "    print()\n"
   ]
  },
  {
   "cell_type": "code",
   "execution_count": 12,
   "metadata": {},
   "outputs": [
    {
     "name": "stdout",
     "output_type": "stream",
     "text": [
      "* * * * * \n",
      "*       * \n",
      "* * * * * \n",
      "        * \n",
      "* * * * * \n"
     ]
    }
   ],
   "source": [
    "# Print the number 9\n",
    "for i in range(5):\n",
    "    for j in range(5):\n",
    "        if (i == 0 or i == 2 or i == 4):  # Top, middle, and bottom horizontal lines\n",
    "            print(\"*\", end=\" \")\n",
    "        elif (j == 4) or (i < 2 and j == 0):  # Right vertical line and top left vertical line\n",
    "            print(\"*\", end=\" \")\n",
    "        else:\n",
    "            print(\" \", end=\" \")\n",
    "    print()\n"
   ]
  },
  {
   "cell_type": "code",
   "execution_count": null,
   "metadata": {},
   "outputs": [],
   "source": []
  }
 ],
 "metadata": {
  "kernelspec": {
   "display_name": "base",
   "language": "python",
   "name": "python3"
  },
  "language_info": {
   "codemirror_mode": {
    "name": "ipython",
    "version": 3
   },
   "file_extension": ".py",
   "mimetype": "text/x-python",
   "name": "python",
   "nbconvert_exporter": "python",
   "pygments_lexer": "ipython3",
   "version": "3.12.4"
  }
 },
 "nbformat": 4,
 "nbformat_minor": 2
}
