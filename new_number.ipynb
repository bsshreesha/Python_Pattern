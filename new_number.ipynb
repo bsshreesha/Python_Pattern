{
 "cells": [
  {
   "cell_type": "code",
   "execution_count": 1,
   "metadata": {},
   "outputs": [
    {
     "name": "stdout",
     "output_type": "stream",
     "text": [
      "  *           * * *   \n",
      "  *         *       * \n",
      "  *         *       * \n",
      "  *         *       * \n",
      "  *           * * *   \n"
     ]
    }
   ],
   "source": [
    "# Print the number 10\n",
    "for i in range(5):\n",
    "    for j in range(5):\n",
    "        if j == 1:  # Vertical line for 1\n",
    "            print(\"*\", end=\" \")\n",
    "        else:\n",
    "            print(\" \", end=\" \")\n",
    "    print(\"  \", end=\"\")  # Space between the digits\n",
    "    for j in range(5):\n",
    "        if (i == 0 or i == 4) and (j > 0 and j < 4):  # Horizontal lines for 0\n",
    "            print(\"*\", end=\" \")\n",
    "        elif (j == 0 or j == 4) and (i > 0 and i < 4):  # Vertical lines for 0\n",
    "            print(\"*\", end=\" \")\n",
    "        else:\n",
    "            print(\" \", end=\" \")\n",
    "    print()"
   ]
  },
  {
   "cell_type": "code",
   "execution_count": 2,
   "metadata": {},
   "outputs": [
    {
     "name": "stdout",
     "output_type": "stream",
     "text": [
      "  *           *       \n",
      "  *           *       \n",
      "  *           *       \n",
      "  *           *       \n",
      "  *           *       \n"
     ]
    }
   ],
   "source": [
    "# Print the number 11\n",
    "for i in range(5):\n",
    "    for j in range(5):\n",
    "        if j == 1:  # Vertical line for 1\n",
    "            print(\"*\", end=\" \")\n",
    "        else:\n",
    "            print(\" \", end=\" \")\n",
    "    print(\"  \", end=\"\")\n",
    "    for j in range(5):\n",
    "        if j == 1:  # Vertical line for 1\n",
    "            print(\"*\", end=\" \")\n",
    "        else:\n",
    "            print(\" \", end=\" \")\n",
    "    print()"
   ]
  },
  {
   "cell_type": "code",
   "execution_count": 3,
   "metadata": {},
   "outputs": [
    {
     "name": "stdout",
     "output_type": "stream",
     "text": [
      "  *         * * * * * \n",
      "  *                 * \n",
      "  *         * * * * * \n",
      "  *         *         \n",
      "  *         * * * * * \n"
     ]
    }
   ],
   "source": [
    "# Print the number 12\n",
    "for i in range(5):\n",
    "    for j in range(5):\n",
    "        if j == 1:  # Vertical line for 1\n",
    "            print(\"*\", end=\" \")\n",
    "        else:\n",
    "            print(\" \", end=\" \")\n",
    "    print(\"  \", end=\"\")\n",
    "    for j in range(5):\n",
    "        if (i == 0 or i == 2 or i == 4):  # Top, middle, and bottom horizontal lines for 2\n",
    "            print(\"*\", end=\" \")\n",
    "        elif i == 1 and j == 4:  # Top right vertical line for 2\n",
    "            print(\"*\", end=\" \")\n",
    "        elif i == 3 and j == 0:  # Bottom left vertical line for 2\n",
    "            print(\"*\", end=\" \")\n",
    "        else:\n",
    "            print(\" \", end=\" \")\n",
    "    print()"
   ]
  },
  {
   "cell_type": "code",
   "execution_count": 4,
   "metadata": {},
   "outputs": [
    {
     "name": "stdout",
     "output_type": "stream",
     "text": [
      "  *         * * * * * \n",
      "  *                 * \n",
      "  *         * * * * * \n",
      "  *                 * \n",
      "  *         * * * * * \n"
     ]
    }
   ],
   "source": [
    "# Print the number 13\n",
    "for i in range(5):\n",
    "    for j in range(5):\n",
    "        if j == 1:  # Vertical line for 1\n",
    "            print(\"*\", end=\" \")\n",
    "        else:\n",
    "            print(\" \", end=\" \")\n",
    "    print(\"  \", end=\"\")\n",
    "    for j in range(5):\n",
    "        if (i == 0 or i == 2 or i == 4):  # Top, middle, and bottom horizontal lines for 3\n",
    "            print(\"*\", end=\" \")\n",
    "        elif j == 4:  # Right vertical line for 3\n",
    "            print(\"*\", end=\" \")\n",
    "        else:\n",
    "            print(\" \", end=\" \")\n",
    "    print()"
   ]
  },
  {
   "cell_type": "code",
   "execution_count": 5,
   "metadata": {},
   "outputs": [
    {
     "name": "stdout",
     "output_type": "stream",
     "text": [
      "  *         *   *     \n",
      "  *         *   *     \n",
      "  *         * * * * * \n",
      "  *             *     \n",
      "  *             *     \n"
     ]
    }
   ],
   "source": [
    "# Print the number 14\n",
    "for i in range(5):\n",
    "    for j in range(5):\n",
    "        if j == 1:  # Vertical line for 1\n",
    "            print(\"*\", end=\" \")\n",
    "        else:\n",
    "            print(\" \", end=\" \")\n",
    "    print(\"  \", end=\"\")\n",
    "    for j in range(5):\n",
    "        if (i == 2):  # Middle horizontal line for 4\n",
    "            print(\"*\", end=\" \")\n",
    "        elif j == 2 or (i < 2 and j == 0):  # Middle vertical line and top left vertical line for 4\n",
    "            print(\"*\", end=\" \")\n",
    "        else:\n",
    "            print(\" \", end=\" \")\n",
    "    print()"
   ]
  },
  {
   "cell_type": "code",
   "execution_count": 6,
   "metadata": {},
   "outputs": [
    {
     "name": "stdout",
     "output_type": "stream",
     "text": [
      "  *         * * * * * \n",
      "  *         *         \n",
      "  *         * * * * * \n",
      "  *                 * \n",
      "  *         * * * * * \n"
     ]
    }
   ],
   "source": [
    "# Print the number 15\n",
    "for i in range(5):\n",
    "    for j in range(5):\n",
    "        if j == 1:  # Vertical line for 1\n",
    "            print(\"*\", end=\" \")\n",
    "        else:\n",
    "            print(\" \", end=\" \")\n",
    "    print(\"  \", end=\"\")\n",
    "    for j in range(5):\n",
    "        if (i == 0 or i == 2 or i == 4):  # Top, middle, and bottom horizontal lines for 5\n",
    "            print(\"*\", end=\" \")\n",
    "        elif (i == 1 and j == 0) or (i == 3 and j == 4):  # Top left and bottom right vertical lines for 5\n",
    "            print(\"*\", end=\" \")\n",
    "        else:\n",
    "            print(\" \", end=\" \")\n",
    "    print()"
   ]
  },
  {
   "cell_type": "code",
   "execution_count": 7,
   "metadata": {},
   "outputs": [
    {
     "name": "stdout",
     "output_type": "stream",
     "text": [
      "  *         * * * * * \n",
      "  *         *         \n",
      "  *         * * * * * \n",
      "  *         *       * \n",
      "  *         * * * * * \n"
     ]
    }
   ],
   "source": [
    "# Print the number 16\n",
    "for i in range(5):\n",
    "    for j in range(5):\n",
    "        if j == 1:  # Vertical line for 1\n",
    "            print(\"*\", end=\" \")\n",
    "        else:\n",
    "            print(\" \", end=\" \")\n",
    "    print(\"  \", end=\"\")\n",
    "    for j in range(5):\n",
    "        if (i == 0 or i == 2 or i == 4):  # Top, middle, and bottom horizontal lines for 6\n",
    "            print(\"*\", end=\" \")\n",
    "        elif (j == 0) or (i > 2 and j == 4):  # Left vertical line and bottom right vertical line for 6\n",
    "            print(\"*\", end=\" \")\n",
    "        else:\n",
    "            print(\" \", end=\" \")\n",
    "    print()"
   ]
  },
  {
   "cell_type": "code",
   "execution_count": 8,
   "metadata": {},
   "outputs": [
    {
     "name": "stdout",
     "output_type": "stream",
     "text": [
      "  *         * * * * * \n",
      "  *                 * \n",
      "  *                 * \n",
      "  *                 * \n",
      "  *                 * \n"
     ]
    }
   ],
   "source": [
    "# Print the number 17\n",
    "for i in range(5):\n",
    "    for j in range(5):\n",
    "        if j == 1:  # Vertical line for 1\n",
    "            print(\"*\", end=\" \")\n",
    "        else:\n",
    "            print(\" \", end=\" \")\n",
    "    print(\"  \", end=\"\")\n",
    "    for j in range(5):\n",
    "        if i == 0:  # Top horizontal line for 7\n",
    "            print(\"*\", end=\" \")\n",
    "        elif j == 4:  # Right vertical line for 7\n",
    "            print(\"*\", end=\" \")\n",
    "        else:\n",
    "            print(\" \", end=\" \")\n",
    "    print()"
   ]
  },
  {
   "cell_type": "code",
   "execution_count": 10,
   "metadata": {},
   "outputs": [
    {
     "name": "stdout",
     "output_type": "stream",
     "text": [
      "  *         * * * * * \n",
      "  *         *       * \n",
      "  *         * * * * * \n",
      "  *         *       * \n",
      "  *         * * * * * \n"
     ]
    }
   ],
   "source": [
    "# Print the number 18\n",
    "for i in range(5):\n",
    "    for j in range(5):\n",
    "        if j == 1:  # Vertical line for 1\n",
    "            print(\"*\", end=\" \")\n",
    "        else:\n",
    "            print(\" \", end=\" \")\n",
    "    print(\"  \", end=\"\")\n",
    "    for j in range(5):\n",
    "        if (i == 0 or i == 2 or i == 4):  # Top, middle, and bottom horizontal lines for 8\n",
    "            print(\"*\", end=\" \")\n",
    "        elif (j == 0 or j == 4):  # Left and right vertical lines for 8\n",
    "            print(\"*\", end=\" \")\n",
    "        else:\n",
    "            print(\" \", end=\" \")\n",
    "    print()"
   ]
  },
  {
   "cell_type": "code",
   "execution_count": 11,
   "metadata": {},
   "outputs": [
    {
     "name": "stdout",
     "output_type": "stream",
     "text": [
      "  *         * * * * * \n",
      "  *         *       * \n",
      "  *         * * * * * \n",
      "  *                 * \n",
      "  *         * * * * * \n"
     ]
    }
   ],
   "source": [
    "# Print the number 19\n",
    "for i in range(5):\n",
    "    for j in range(5):\n",
    "        if j == 1:  # Vertical line for 1\n",
    "            print(\"*\", end=\" \")\n",
    "        else:\n",
    "            print(\" \", end=\" \")\n",
    "    print(\"  \", end=\"\")\n",
    "    for j in range(5):\n",
    "        if (i == 0 or i == 2 or i == 4):  # Top, middle, and bottom horizontal lines for 9\n",
    "            print(\"*\", end=\" \")\n",
    "        elif (j == 4) or (i < 2 and j == 0):  # Right vertical line and top left vertical line for 9\n",
    "            print(\"*\", end=\" \")\n",
    "        else:\n",
    "            print(\" \", end=\" \")\n",
    "    print()"
   ]
  },
  {
   "cell_type": "code",
   "execution_count": 12,
   "metadata": {},
   "outputs": [
    {
     "name": "stdout",
     "output_type": "stream",
     "text": [
      "* * * * *     * * *   \n",
      "        *   *       * \n",
      "* * * * *   *       * \n",
      "*           *       * \n",
      "* * * * *     * * *   \n"
     ]
    }
   ],
   "source": [
    "# Print the number 20\n",
    "for i in range(5):\n",
    "    for j in range(5):\n",
    "        if (i == 0 or i == 2 or i == 4):  # Top, middle, and bottom horizontal lines for 2\n",
    "            print(\"*\", end=\" \")\n",
    "        elif i == 1 and j == 4:  # Top right vertical line for 2\n",
    "            print(\"*\", end=\" \")\n",
    "        elif i == 3 and j == 0:  # Bottom left vertical line for 2\n",
    "            print(\"*\", end=\" \")\n",
    "        else:\n",
    "            print(\" \", end=\" \")\n",
    "    print(\"  \", end=\"\")\n",
    "    for j in range(5):\n",
    "        if (i == 0 or i == 4) and (j > 0 and j < 4):  # Horizontal lines for 0\n",
    "            print(\"*\", end=\" \")\n",
    "        elif (j == 0 or j == 4) and (i > 0 and i < 4):  # Vertical lines for 0\n",
    "            print(\"*\", end=\" \")\n",
    "        else:\n",
    "            print(\" \", end=\" \")\n",
    "    print()"
   ]
  },
  {
   "cell_type": "code",
   "execution_count": null,
   "metadata": {},
   "outputs": [],
   "source": []
  }
 ],
 "metadata": {
  "kernelspec": {
   "display_name": "base",
   "language": "python",
   "name": "python3"
  },
  "language_info": {
   "codemirror_mode": {
    "name": "ipython",
    "version": 3
   },
   "file_extension": ".py",
   "mimetype": "text/x-python",
   "name": "python",
   "nbconvert_exporter": "python",
   "pygments_lexer": "ipython3",
   "version": "3.12.4"
  }
 },
 "nbformat": 4,
 "nbformat_minor": 2
}
